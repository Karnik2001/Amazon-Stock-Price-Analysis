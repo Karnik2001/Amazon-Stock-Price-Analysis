{
  "nbformat": 4,
  "nbformat_minor": 0,
  "metadata": {
    "colab": {
      "provenance": []
    },
    "kernelspec": {
      "name": "python3",
      "display_name": "Python 3"
    },
    "language_info": {
      "name": "python"
    }
  },
  "cells": [
    {
      "cell_type": "code",
      "execution_count": 22,
      "metadata": {
        "id": "j_exNCxW9wAb"
      },
      "outputs": [],
      "source": [
        "# Import all of the necessary libraries\n",
        "import numpy as np\n",
        "import pandas as pd\n",
        "import matplotlib.pyplot as plt\n",
        "import seaborn as sns\n",
        "import yfinance as yf\n",
        "from datetime import datetime\n",
        "import warnings\n",
        "from pyspark.sql import SparkSession\n",
        "from pyspark.ml.feature import VectorAssembler\n",
        "from pyspark.ml.regression import LinearRegression\n",
        "from pyspark.sql.functions import format_number\n",
        "from pyspark.sql.functions import mean, max, min, year\n",
        "warnings.filterwarnings('ignore')"
      ]
    },
    {
      "cell_type": "code",
      "source": [
        "# Build the sparker session function and the virtual environment\n",
        "aspark = SparkSession.builder.appName(\"Amazon Stock Analysis\").getOrCreate()"
      ],
      "metadata": {
        "id": "7i2h44VM_zPj"
      },
      "execution_count": 23,
      "outputs": []
    },
    {
      "cell_type": "code",
      "source": [
        "# Get historical data\n",
        "amz = yf.Ticker('AMZN')\n",
        "amz_data = amz.history(period=\"max\")\n",
        "\n",
        "# Obeserve the first five rows\n",
        "amz_data.head()"
      ],
      "metadata": {
        "colab": {
          "base_uri": "https://localhost:8080/",
          "height": 238
        },
        "id": "4R5VSD7I97Xl",
        "outputId": "7be3073c-90ae-4f80-f8e5-1e2c09a33805"
      },
      "execution_count": 3,
      "outputs": [
        {
          "output_type": "execute_result",
          "data": {
            "text/plain": [
              "                               Open      High       Low     Close      Volume  \\\n",
              "Date                                                                            \n",
              "1997-05-15 00:00:00-04:00  0.121875  0.125000  0.096354  0.097917  1443120000   \n",
              "1997-05-16 00:00:00-04:00  0.098438  0.098958  0.085417  0.086458   294000000   \n",
              "1997-05-19 00:00:00-04:00  0.088021  0.088542  0.081250  0.085417   122136000   \n",
              "1997-05-20 00:00:00-04:00  0.086458  0.087500  0.081771  0.081771   109344000   \n",
              "1997-05-21 00:00:00-04:00  0.081771  0.082292  0.068750  0.071354   377064000   \n",
              "\n",
              "                           Dividends  Stock Splits  \n",
              "Date                                                \n",
              "1997-05-15 00:00:00-04:00        0.0           0.0  \n",
              "1997-05-16 00:00:00-04:00        0.0           0.0  \n",
              "1997-05-19 00:00:00-04:00        0.0           0.0  \n",
              "1997-05-20 00:00:00-04:00        0.0           0.0  \n",
              "1997-05-21 00:00:00-04:00        0.0           0.0  "
            ],
            "text/html": [
              "\n",
              "  <div id=\"df-c6afcec7-4758-4cee-8499-8df361a268a7\" class=\"colab-df-container\">\n",
              "    <div>\n",
              "<style scoped>\n",
              "    .dataframe tbody tr th:only-of-type {\n",
              "        vertical-align: middle;\n",
              "    }\n",
              "\n",
              "    .dataframe tbody tr th {\n",
              "        vertical-align: top;\n",
              "    }\n",
              "\n",
              "    .dataframe thead th {\n",
              "        text-align: right;\n",
              "    }\n",
              "</style>\n",
              "<table border=\"1\" class=\"dataframe\">\n",
              "  <thead>\n",
              "    <tr style=\"text-align: right;\">\n",
              "      <th></th>\n",
              "      <th>Open</th>\n",
              "      <th>High</th>\n",
              "      <th>Low</th>\n",
              "      <th>Close</th>\n",
              "      <th>Volume</th>\n",
              "      <th>Dividends</th>\n",
              "      <th>Stock Splits</th>\n",
              "    </tr>\n",
              "    <tr>\n",
              "      <th>Date</th>\n",
              "      <th></th>\n",
              "      <th></th>\n",
              "      <th></th>\n",
              "      <th></th>\n",
              "      <th></th>\n",
              "      <th></th>\n",
              "      <th></th>\n",
              "    </tr>\n",
              "  </thead>\n",
              "  <tbody>\n",
              "    <tr>\n",
              "      <th>1997-05-15 00:00:00-04:00</th>\n",
              "      <td>0.121875</td>\n",
              "      <td>0.125000</td>\n",
              "      <td>0.096354</td>\n",
              "      <td>0.097917</td>\n",
              "      <td>1443120000</td>\n",
              "      <td>0.0</td>\n",
              "      <td>0.0</td>\n",
              "    </tr>\n",
              "    <tr>\n",
              "      <th>1997-05-16 00:00:00-04:00</th>\n",
              "      <td>0.098438</td>\n",
              "      <td>0.098958</td>\n",
              "      <td>0.085417</td>\n",
              "      <td>0.086458</td>\n",
              "      <td>294000000</td>\n",
              "      <td>0.0</td>\n",
              "      <td>0.0</td>\n",
              "    </tr>\n",
              "    <tr>\n",
              "      <th>1997-05-19 00:00:00-04:00</th>\n",
              "      <td>0.088021</td>\n",
              "      <td>0.088542</td>\n",
              "      <td>0.081250</td>\n",
              "      <td>0.085417</td>\n",
              "      <td>122136000</td>\n",
              "      <td>0.0</td>\n",
              "      <td>0.0</td>\n",
              "    </tr>\n",
              "    <tr>\n",
              "      <th>1997-05-20 00:00:00-04:00</th>\n",
              "      <td>0.086458</td>\n",
              "      <td>0.087500</td>\n",
              "      <td>0.081771</td>\n",
              "      <td>0.081771</td>\n",
              "      <td>109344000</td>\n",
              "      <td>0.0</td>\n",
              "      <td>0.0</td>\n",
              "    </tr>\n",
              "    <tr>\n",
              "      <th>1997-05-21 00:00:00-04:00</th>\n",
              "      <td>0.081771</td>\n",
              "      <td>0.082292</td>\n",
              "      <td>0.068750</td>\n",
              "      <td>0.071354</td>\n",
              "      <td>377064000</td>\n",
              "      <td>0.0</td>\n",
              "      <td>0.0</td>\n",
              "    </tr>\n",
              "  </tbody>\n",
              "</table>\n",
              "</div>\n",
              "    <div class=\"colab-df-buttons\">\n",
              "\n",
              "  <div class=\"colab-df-container\">\n",
              "    <button class=\"colab-df-convert\" onclick=\"convertToInteractive('df-c6afcec7-4758-4cee-8499-8df361a268a7')\"\n",
              "            title=\"Convert this dataframe to an interactive table.\"\n",
              "            style=\"display:none;\">\n",
              "\n",
              "  <svg xmlns=\"http://www.w3.org/2000/svg\" height=\"24px\" viewBox=\"0 -960 960 960\">\n",
              "    <path d=\"M120-120v-720h720v720H120Zm60-500h600v-160H180v160Zm220 220h160v-160H400v160Zm0 220h160v-160H400v160ZM180-400h160v-160H180v160Zm440 0h160v-160H620v160ZM180-180h160v-160H180v160Zm440 0h160v-160H620v160Z\"/>\n",
              "  </svg>\n",
              "    </button>\n",
              "\n",
              "  <style>\n",
              "    .colab-df-container {\n",
              "      display:flex;\n",
              "      gap: 12px;\n",
              "    }\n",
              "\n",
              "    .colab-df-convert {\n",
              "      background-color: #E8F0FE;\n",
              "      border: none;\n",
              "      border-radius: 50%;\n",
              "      cursor: pointer;\n",
              "      display: none;\n",
              "      fill: #1967D2;\n",
              "      height: 32px;\n",
              "      padding: 0 0 0 0;\n",
              "      width: 32px;\n",
              "    }\n",
              "\n",
              "    .colab-df-convert:hover {\n",
              "      background-color: #E2EBFA;\n",
              "      box-shadow: 0px 1px 2px rgba(60, 64, 67, 0.3), 0px 1px 3px 1px rgba(60, 64, 67, 0.15);\n",
              "      fill: #174EA6;\n",
              "    }\n",
              "\n",
              "    .colab-df-buttons div {\n",
              "      margin-bottom: 4px;\n",
              "    }\n",
              "\n",
              "    [theme=dark] .colab-df-convert {\n",
              "      background-color: #3B4455;\n",
              "      fill: #D2E3FC;\n",
              "    }\n",
              "\n",
              "    [theme=dark] .colab-df-convert:hover {\n",
              "      background-color: #434B5C;\n",
              "      box-shadow: 0px 1px 3px 1px rgba(0, 0, 0, 0.15);\n",
              "      filter: drop-shadow(0px 1px 2px rgba(0, 0, 0, 0.3));\n",
              "      fill: #FFFFFF;\n",
              "    }\n",
              "  </style>\n",
              "\n",
              "    <script>\n",
              "      const buttonEl =\n",
              "        document.querySelector('#df-c6afcec7-4758-4cee-8499-8df361a268a7 button.colab-df-convert');\n",
              "      buttonEl.style.display =\n",
              "        google.colab.kernel.accessAllowed ? 'block' : 'none';\n",
              "\n",
              "      async function convertToInteractive(key) {\n",
              "        const element = document.querySelector('#df-c6afcec7-4758-4cee-8499-8df361a268a7');\n",
              "        const dataTable =\n",
              "          await google.colab.kernel.invokeFunction('convertToInteractive',\n",
              "                                                    [key], {});\n",
              "        if (!dataTable) return;\n",
              "\n",
              "        const docLinkHtml = 'Like what you see? Visit the ' +\n",
              "          '<a target=\"_blank\" href=https://colab.research.google.com/notebooks/data_table.ipynb>data table notebook</a>'\n",
              "          + ' to learn more about interactive tables.';\n",
              "        element.innerHTML = '';\n",
              "        dataTable['output_type'] = 'display_data';\n",
              "        await google.colab.output.renderOutput(dataTable, element);\n",
              "        const docLink = document.createElement('div');\n",
              "        docLink.innerHTML = docLinkHtml;\n",
              "        element.appendChild(docLink);\n",
              "      }\n",
              "    </script>\n",
              "  </div>\n",
              "\n",
              "\n",
              "<div id=\"df-d7d8d0b7-2ebc-4e60-8d86-9d928e290314\">\n",
              "  <button class=\"colab-df-quickchart\" onclick=\"quickchart('df-d7d8d0b7-2ebc-4e60-8d86-9d928e290314')\"\n",
              "            title=\"Suggest charts\"\n",
              "            style=\"display:none;\">\n",
              "\n",
              "<svg xmlns=\"http://www.w3.org/2000/svg\" height=\"24px\"viewBox=\"0 0 24 24\"\n",
              "     width=\"24px\">\n",
              "    <g>\n",
              "        <path d=\"M19 3H5c-1.1 0-2 .9-2 2v14c0 1.1.9 2 2 2h14c1.1 0 2-.9 2-2V5c0-1.1-.9-2-2-2zM9 17H7v-7h2v7zm4 0h-2V7h2v10zm4 0h-2v-4h2v4z\"/>\n",
              "    </g>\n",
              "</svg>\n",
              "  </button>\n",
              "\n",
              "<style>\n",
              "  .colab-df-quickchart {\n",
              "      --bg-color: #E8F0FE;\n",
              "      --fill-color: #1967D2;\n",
              "      --hover-bg-color: #E2EBFA;\n",
              "      --hover-fill-color: #174EA6;\n",
              "      --disabled-fill-color: #AAA;\n",
              "      --disabled-bg-color: #DDD;\n",
              "  }\n",
              "\n",
              "  [theme=dark] .colab-df-quickchart {\n",
              "      --bg-color: #3B4455;\n",
              "      --fill-color: #D2E3FC;\n",
              "      --hover-bg-color: #434B5C;\n",
              "      --hover-fill-color: #FFFFFF;\n",
              "      --disabled-bg-color: #3B4455;\n",
              "      --disabled-fill-color: #666;\n",
              "  }\n",
              "\n",
              "  .colab-df-quickchart {\n",
              "    background-color: var(--bg-color);\n",
              "    border: none;\n",
              "    border-radius: 50%;\n",
              "    cursor: pointer;\n",
              "    display: none;\n",
              "    fill: var(--fill-color);\n",
              "    height: 32px;\n",
              "    padding: 0;\n",
              "    width: 32px;\n",
              "  }\n",
              "\n",
              "  .colab-df-quickchart:hover {\n",
              "    background-color: var(--hover-bg-color);\n",
              "    box-shadow: 0 1px 2px rgba(60, 64, 67, 0.3), 0 1px 3px 1px rgba(60, 64, 67, 0.15);\n",
              "    fill: var(--button-hover-fill-color);\n",
              "  }\n",
              "\n",
              "  .colab-df-quickchart-complete:disabled,\n",
              "  .colab-df-quickchart-complete:disabled:hover {\n",
              "    background-color: var(--disabled-bg-color);\n",
              "    fill: var(--disabled-fill-color);\n",
              "    box-shadow: none;\n",
              "  }\n",
              "\n",
              "  .colab-df-spinner {\n",
              "    border: 2px solid var(--fill-color);\n",
              "    border-color: transparent;\n",
              "    border-bottom-color: var(--fill-color);\n",
              "    animation:\n",
              "      spin 1s steps(1) infinite;\n",
              "  }\n",
              "\n",
              "  @keyframes spin {\n",
              "    0% {\n",
              "      border-color: transparent;\n",
              "      border-bottom-color: var(--fill-color);\n",
              "      border-left-color: var(--fill-color);\n",
              "    }\n",
              "    20% {\n",
              "      border-color: transparent;\n",
              "      border-left-color: var(--fill-color);\n",
              "      border-top-color: var(--fill-color);\n",
              "    }\n",
              "    30% {\n",
              "      border-color: transparent;\n",
              "      border-left-color: var(--fill-color);\n",
              "      border-top-color: var(--fill-color);\n",
              "      border-right-color: var(--fill-color);\n",
              "    }\n",
              "    40% {\n",
              "      border-color: transparent;\n",
              "      border-right-color: var(--fill-color);\n",
              "      border-top-color: var(--fill-color);\n",
              "    }\n",
              "    60% {\n",
              "      border-color: transparent;\n",
              "      border-right-color: var(--fill-color);\n",
              "    }\n",
              "    80% {\n",
              "      border-color: transparent;\n",
              "      border-right-color: var(--fill-color);\n",
              "      border-bottom-color: var(--fill-color);\n",
              "    }\n",
              "    90% {\n",
              "      border-color: transparent;\n",
              "      border-bottom-color: var(--fill-color);\n",
              "    }\n",
              "  }\n",
              "</style>\n",
              "\n",
              "  <script>\n",
              "    async function quickchart(key) {\n",
              "      const quickchartButtonEl =\n",
              "        document.querySelector('#' + key + ' button');\n",
              "      quickchartButtonEl.disabled = true;  // To prevent multiple clicks.\n",
              "      quickchartButtonEl.classList.add('colab-df-spinner');\n",
              "      try {\n",
              "        const charts = await google.colab.kernel.invokeFunction(\n",
              "            'suggestCharts', [key], {});\n",
              "      } catch (error) {\n",
              "        console.error('Error during call to suggestCharts:', error);\n",
              "      }\n",
              "      quickchartButtonEl.classList.remove('colab-df-spinner');\n",
              "      quickchartButtonEl.classList.add('colab-df-quickchart-complete');\n",
              "    }\n",
              "    (() => {\n",
              "      let quickchartButtonEl =\n",
              "        document.querySelector('#df-d7d8d0b7-2ebc-4e60-8d86-9d928e290314 button');\n",
              "      quickchartButtonEl.style.display =\n",
              "        google.colab.kernel.accessAllowed ? 'block' : 'none';\n",
              "    })();\n",
              "  </script>\n",
              "</div>\n",
              "\n",
              "    </div>\n",
              "  </div>\n"
            ],
            "application/vnd.google.colaboratory.intrinsic+json": {
              "type": "dataframe",
              "variable_name": "amz_data",
              "summary": "{\n  \"name\": \"amz_data\",\n  \"rows\": 7029,\n  \"fields\": [\n    {\n      \"column\": \"Date\",\n      \"properties\": {\n        \"dtype\": \"date\",\n        \"min\": \"1997-05-15 00:00:00-04:00\",\n        \"max\": \"2025-04-23 00:00:00-04:00\",\n        \"num_unique_values\": 7029,\n        \"samples\": [\n          \"2007-03-21 00:00:00-04:00\",\n          \"2024-04-11 00:00:00-04:00\",\n          \"2015-10-15 00:00:00-04:00\"\n        ],\n        \"semantic_type\": \"\",\n        \"description\": \"\"\n      }\n    },\n    {\n      \"column\": \"Open\",\n      \"properties\": {\n        \"dtype\": \"number\",\n        \"std\": 59.15449805577682,\n        \"min\": 0.0703129991889,\n        \"max\": 239.02000427246094,\n        \"num_unique_values\": 6285,\n        \"samples\": [\n          47.7760009765625,\n          16.578500747680664,\n          181.64999389648438\n        ],\n        \"semantic_type\": \"\",\n        \"description\": \"\"\n      }\n    },\n    {\n      \"column\": \"High\",\n      \"properties\": {\n        \"dtype\": \"number\",\n        \"std\": 59.832126223714845,\n        \"min\": 0.07239600270986557,\n        \"max\": 242.52000427246094,\n        \"num_unique_values\": 6244,\n        \"samples\": [\n          2.78125,\n          0.7595000267028809,\n          0.18281300365924835\n        ],\n        \"semantic_type\": \"\",\n        \"description\": \"\"\n      }\n    },\n    {\n      \"column\": \"Low\",\n      \"properties\": {\n        \"dtype\": \"number\",\n        \"std\": 58.40835551023142,\n        \"min\": 0.06562499701976776,\n        \"max\": 238.02999877929688,\n        \"num_unique_values\": 6250,\n        \"samples\": [\n          109.31050109863281,\n          2.174999952316284,\n          101.86000061035156\n        ],\n        \"semantic_type\": \"\",\n        \"description\": \"\"\n      }\n    },\n    {\n      \"column\": \"Close\",\n      \"properties\": {\n        \"dtype\": \"number\",\n        \"std\": 59.134873451427204,\n        \"min\": 0.0697920024394989,\n        \"max\": 242.05999755859375,\n        \"num_unique_values\": 6384,\n        \"samples\": [\n          1.1699999570846558,\n          107.54000091552734,\n          157.7845001220703\n        ],\n        \"semantic_type\": \"\",\n        \"description\": \"\"\n      }\n    },\n    {\n      \"column\": \"Volume\",\n      \"properties\": {\n        \"dtype\": \"number\",\n        \"std\": 137316670,\n        \"min\": 9744000,\n        \"max\": 2086584000,\n        \"num_unique_values\": 6834,\n        \"samples\": [\n          107582000,\n          97458000,\n          155596000\n        ],\n        \"semantic_type\": \"\",\n        \"description\": \"\"\n      }\n    },\n    {\n      \"column\": \"Dividends\",\n      \"properties\": {\n        \"dtype\": \"number\",\n        \"std\": 0.0,\n        \"min\": 0.0,\n        \"max\": 0.0,\n        \"num_unique_values\": 1,\n        \"samples\": [\n          0.0\n        ],\n        \"semantic_type\": \"\",\n        \"description\": \"\"\n      }\n    },\n    {\n      \"column\": \"Stock Splits\",\n      \"properties\": {\n        \"dtype\": \"number\",\n        \"std\": 0.24355560979258195,\n        \"min\": 0.0,\n        \"max\": 20.0,\n        \"num_unique_values\": 4,\n        \"samples\": [\n          2.0\n        ],\n        \"semantic_type\": \"\",\n        \"description\": \"\"\n      }\n    }\n  ]\n}"
            }
          },
          "metadata": {},
          "execution_count": 3
        }
      ]
    },
    {
      "cell_type": "markdown",
      "source": [
        "# Exploratory Data Analysis"
      ],
      "metadata": {
        "id": "ukutTGPnACh-"
      }
    },
    {
      "cell_type": "code",
      "source": [
        "# Check the data type\n",
        "amz_data.info()"
      ],
      "metadata": {
        "colab": {
          "base_uri": "https://localhost:8080/"
        },
        "id": "HQTpg37997Ud",
        "outputId": "fa3a99e8-02d2-452a-f7f4-38ace867ee30"
      },
      "execution_count": 4,
      "outputs": [
        {
          "output_type": "stream",
          "name": "stdout",
          "text": [
            "<class 'pandas.core.frame.DataFrame'>\n",
            "DatetimeIndex: 7029 entries, 1997-05-15 00:00:00-04:00 to 2025-04-23 00:00:00-04:00\n",
            "Data columns (total 7 columns):\n",
            " #   Column        Non-Null Count  Dtype  \n",
            "---  ------        --------------  -----  \n",
            " 0   Open          7029 non-null   float64\n",
            " 1   High          7029 non-null   float64\n",
            " 2   Low           7029 non-null   float64\n",
            " 3   Close         7029 non-null   float64\n",
            " 4   Volume        7029 non-null   int64  \n",
            " 5   Dividends     7029 non-null   float64\n",
            " 6   Stock Splits  7029 non-null   float64\n",
            "dtypes: float64(6), int64(1)\n",
            "memory usage: 439.3 KB\n"
          ]
        }
      ]
    },
    {
      "cell_type": "code",
      "source": [
        "# Create a variable for gather the basic statistics of the dataset\n",
        "result = amz_data.describe()\n",
        "\n",
        "# Convert the Pandas DataFrame 'result' to a PySpark DataFrame\n",
        "result_spark = aspark.createDataFrame(result)\n",
        "\n",
        "# Reset index to include 'summary' as a column in the Pandas DataFrame before converting to PySpark DataFrame\n",
        "result = result.reset_index()\n",
        "result_spark = aspark.createDataFrame(result)\n",
        "\n",
        "# Display the summary statistics of the PySpark dataset\n",
        "result_spark.select(result_spark['index'].alias('summary'),\n",
        "              format_number(result_spark['Open'].cast('float'),2).alias('Open'),\n",
        "              format_number(result_spark['High'].cast('float'),2).alias('High'),\n",
        "              format_number(result_spark['Low'].cast('float'),2).alias('Low'),\n",
        "              format_number(result_spark['Close'].cast('float'),2).alias('Close'),\n",
        "              result_spark['Volume'].cast('int').alias('Volume')\n",
        "             ).show()"
      ],
      "metadata": {
        "colab": {
          "base_uri": "https://localhost:8080/"
        },
        "id": "eqWHeMSZ97RF",
        "outputId": "09ffc24c-65fc-4d52-f489-43974e6367a4"
      },
      "execution_count": 5,
      "outputs": [
        {
          "output_type": "stream",
          "name": "stdout",
          "text": [
            "+-------+--------+--------+--------+--------+----------+\n",
            "|summary|    Open|    High|     Low|   Close|    Volume|\n",
            "+-------+--------+--------+--------+--------+----------+\n",
            "|  count|7,029.00|7,029.00|7,029.00|7,029.00|      7029|\n",
            "|   mean|   41.60|   42.09|   41.07|   41.59| 135566706|\n",
            "|    std|   59.15|   59.83|   58.41|   59.13| 137316670|\n",
            "|    min|    0.07|    0.07|    0.07|    0.07|   9744000|\n",
            "|    25%|    2.11|    2.15|    2.08|    2.12|  62626000|\n",
            "|    50%|    9.13|    9.24|    9.02|    9.13| 100174000|\n",
            "|    75%|   77.00|   77.85|   75.36|   76.52| 155120000|\n",
            "|    max|  239.02|  242.52|  238.03|  242.06|2086584000|\n",
            "+-------+--------+--------+--------+--------+----------+\n",
            "\n"
          ]
        }
      ]
    },
    {
      "cell_type": "code",
      "source": [
        "# Convert Pandas DataFrame to PySpark DataFrame\n",
        "amz_data_spark = aspark.createDataFrame(amz_data)\n",
        "\n",
        "# Calculate 'HV Ratio' using PySpark syntax\n",
        "amz2 = amz_data_spark.withColumn(\"HV Ratio\", amz_data_spark[\"High\"] / amz_data_spark[\"Volume\"])\n",
        "\n",
        "# Display the 'HV Ratio' column\n",
        "amz2.select('HV Ratio').show()"
      ],
      "metadata": {
        "colab": {
          "base_uri": "https://localhost:8080/"
        },
        "id": "S-yudA03eDiM",
        "outputId": "018dc844-0f15-4b51-daa4-868cc7f8e79f"
      },
      "execution_count": 6,
      "outputs": [
        {
          "output_type": "stream",
          "name": "stdout",
          "text": [
            "+--------------------+\n",
            "|            HV Ratio|\n",
            "+--------------------+\n",
            "|8.661788347469372...|\n",
            "|3.365918385739229...|\n",
            "|7.249459574512565...|\n",
            "|8.002267935129854...|\n",
            "|2.182441123235062...|\n",
            "|3.073670382016574...|\n",
            "|2.385676168932887...|\n",
            "|4.730730199661432...|\n",
            "|8.937893627552187...|\n",
            "|1.109810513859381...|\n",
            "|1.455461758588369...|\n",
            "|6.470841842377968E-9|\n",
            "|3.235420921188984E-9|\n",
            "|1.208917653230920...|\n",
            "|6.794566590033956...|\n",
            "|5.470399274996087...|\n",
            "|1.815837636894109...|\n",
            "|7.823789334606406...|\n",
            "|3.375757723946362...|\n",
            "|2.521200918172504...|\n",
            "+--------------------+\n",
            "only showing top 20 rows\n",
            "\n"
          ]
        }
      ]
    },
    {
      "cell_type": "markdown",
      "source": [
        "### What is the average Closing price?"
      ],
      "metadata": {
        "id": "KxfhHo-DGIFE"
      }
    },
    {
      "cell_type": "code",
      "source": [
        "# Calculate the average closing price\n",
        "amz_data_spark.select(mean('Close')).show()"
      ],
      "metadata": {
        "colab": {
          "base_uri": "https://localhost:8080/"
        },
        "id": "87cKAs3GFYHj",
        "outputId": "c98d5bca-13c3-4eaa-d40a-5c0fa3b4801c"
      },
      "execution_count": 7,
      "outputs": [
        {
          "output_type": "stream",
          "name": "stdout",
          "text": [
            "+-----------------+\n",
            "|       avg(Close)|\n",
            "+-----------------+\n",
            "|41.59447074449174|\n",
            "+-----------------+\n",
            "\n"
          ]
        }
      ]
    },
    {
      "cell_type": "markdown",
      "source": [
        "### What is the maximum and minimum volume of stock traded?\n"
      ],
      "metadata": {
        "id": "WHxHO6YjGCB-"
      }
    },
    {
      "cell_type": "code",
      "source": [
        "# Select the highest and lowest volume of stocks\n",
        "amz_data_spark.select(max(\"Volume\"),min(\"Volume\")).show()"
      ],
      "metadata": {
        "colab": {
          "base_uri": "https://localhost:8080/"
        },
        "id": "zXoV-G8RFYEy",
        "outputId": "ebd8d25c-9ae9-4e18-ac1b-e0d1930b9079"
      },
      "execution_count": 8,
      "outputs": [
        {
          "output_type": "stream",
          "name": "stdout",
          "text": [
            "+-----------+-----------+\n",
            "|max(Volume)|min(Volume)|\n",
            "+-----------+-----------+\n",
            "| 2086584000|    9744000|\n",
            "+-----------+-----------+\n",
            "\n"
          ]
        }
      ]
    },
    {
      "cell_type": "markdown",
      "source": [
        "### What is the highest Stock Price and what year?"
      ],
      "metadata": {
        "id": "6kBl7MYZGPz9"
      }
    },
    {
      "cell_type": "code",
      "source": [
        "# Extract year from the 'Date' column and create a new 'Year' column\n",
        "amz_data_spark = amz_data_spark.withColumn('Year', year(amz_data_spark['Date']))\n",
        "\n",
        "# Group by 'Year' and select 'Year' and 'max(High)'\n",
        "max_df = amz_data_spark.groupBy('Year').max()\n",
        "\n",
        "# Select 'Year' and 'max(High)' from the aggregated DataFrame\n",
        "max_df.select('Year','max(High)').orderBy('Year', ascending=False).show()"
      ],
      "metadata": {
        "colab": {
          "base_uri": "https://localhost:8080/"
        },
        "id": "Uc8faNpSFYCB",
        "outputId": "38c089a7-4dfa-492b-863c-ca884eb95e60"
      },
      "execution_count": 9,
      "outputs": [
        {
          "output_type": "stream",
          "name": "stdout",
          "text": [
            "+----+------------------+\n",
            "|Year|         max(High)|\n",
            "+----+------------------+\n",
            "|2025|242.52000427246094|\n",
            "|2024|             233.0|\n",
            "|2023| 155.6300048828125|\n",
            "|2022|171.39999389648438|\n",
            "|2021| 188.6540069580078|\n",
            "|2020| 177.6125030517578|\n",
            "|2019|101.79000091552734|\n",
            "|2018| 102.5250015258789|\n",
            "|2017|60.670501708984375|\n",
            "|2016| 42.36050033569336|\n",
            "|2015|34.821998596191406|\n",
            "|2014|20.402999877929688|\n",
            "|2013|  20.2814998626709|\n",
            "|2012|13.205499649047852|\n",
            "|2011| 12.33549976348877|\n",
            "|2010| 9.282500267028809|\n",
            "|2009| 7.295499801635742|\n",
            "|2008| 4.871500015258789|\n",
            "|2007| 5.054500102996826|\n",
            "|2006| 2.428999900817871|\n",
            "+----+------------------+\n",
            "only showing top 20 rows\n",
            "\n"
          ]
        }
      ]
    },
    {
      "cell_type": "markdown",
      "source": [
        "# Linear Regression"
      ],
      "metadata": {
        "id": "wfrPKpUs_3XA"
      }
    },
    {
      "cell_type": "code",
      "source": [
        "# Rename the Close column to a label column\n",
        "amz_data_spark = amz_data_spark.withColumnRenamed(\"Close\", \"label\")\n",
        "\n",
        "# Create a VectorAssembler object to combine the specified input columns into a single 'features' column\n",
        "assembler = VectorAssembler(inputCols=[\"Open\",\"High\",\"Low\",\"Volume\"], outputCol=\"features\")\n",
        "\n",
        "# Apply transform on the PySpark DataFrame\n",
        "output = assembler.transform(amz_data_spark)\n",
        "final_data = output.select(\"features\", \"label\")"
      ],
      "metadata": {
        "id": "qF4qNQjn97LF"
      },
      "execution_count": 24,
      "outputs": []
    },
    {
      "cell_type": "code",
      "source": [
        "# Split the dataset into a training and test\n",
        "train_data, test_data = final_data.randomSplit([0.7, 0.3])"
      ],
      "metadata": {
        "id": "D7Oe_grP97IN"
      },
      "execution_count": 11,
      "outputs": []
    },
    {
      "cell_type": "code",
      "source": [
        "# Initializing a Linear Regression model\n",
        "ss = LinearRegression(featuresCol='features', labelCol='label')"
      ],
      "metadata": {
        "id": "jBXSZInH97FO"
      },
      "execution_count": 12,
      "outputs": []
    },
    {
      "cell_type": "code",
      "source": [
        "# Training the model\n",
        "ss = ss.fit(train_data)"
      ],
      "metadata": {
        "id": "aEl9Cqn2OPOh"
      },
      "execution_count": 13,
      "outputs": []
    },
    {
      "cell_type": "code",
      "source": [
        "# Print model coefficients and intercept\n",
        "print(\"Coefficients:\", str(ss.coefficients))\n",
        "print(\"Intercept:\", str(ss.intercept))"
      ],
      "metadata": {
        "colab": {
          "base_uri": "https://localhost:8080/"
        },
        "id": "TvdpfrB4AmDP",
        "outputId": "011f77dc-31e8-4cf9-9f90-cd23ec3f79ca"
      },
      "execution_count": 14,
      "outputs": [
        {
          "output_type": "stream",
          "name": "stdout",
          "text": [
            "Coefficients: [-0.5934708588430375,0.7990414964969189,0.7949568261784068,-3.4927041203543455e-12]\n",
            "Intercept: 0.0023296136346943456\n"
          ]
        }
      ]
    },
    {
      "cell_type": "code",
      "source": [
        "# Evaluate the model's performance on the test data\n",
        "pred = ss.evaluate(test_data)\n",
        "\n",
        "# Display the predictions made by the model on the test data\n",
        "pred.predictions.show()"
      ],
      "metadata": {
        "colab": {
          "base_uri": "https://localhost:8080/"
        },
        "id": "9PUBBXB1AmAW",
        "outputId": "948cf8d2-17c7-41cc-f0e3-bde7e6a9177a"
      },
      "execution_count": 25,
      "outputs": [
        {
          "output_type": "stream",
          "name": "stdout",
          "text": [
            "+--------------------+-------------------+-------------------+\n",
            "|            features|              label|         prediction|\n",
            "+--------------------+-------------------+-------------------+\n",
            "|[0.0703129991889,...|0.07500000298023224|0.07324571491570915|\n",
            "|[0.07083299756050...|0.07708299905061722|0.07614185134121022|\n",
            "|[0.07552099972963...|0.07552099972963333|0.07823880242038538|\n",
            "|[0.07552099972963...|0.07708299905061722|0.07999341448509939|\n",
            "|[0.07552099972963...|0.07916700094938278|0.08062312586890287|\n",
            "|[0.07578100264072...|0.07942699640989304|0.08079457455458189|\n",
            "|[0.07578100264072...|0.08281300216913223|0.08509809583177647|\n",
            "|[0.07916700094938...|0.08020800352096558|0.08267885705657456|\n",
            "|[0.08020800352096...|0.07864599674940109|0.08086023536057788|\n",
            "|[0.08124999701976...|0.07656300067901611| 0.0799932708149814|\n",
            "|[0.10468800365924...|0.10833299905061722|0.10992377384701998|\n",
            "|[0.10885400325059...|0.10911499708890915|0.11079174940747101|\n",
            "|[0.10885400325059...|0.10781300067901611| 0.1118048148610113|\n",
            "|[0.11249999701976...|0.10885400325059891|0.11019469568073799|\n",
            "|[0.11510399729013...|0.11874999850988388| 0.1203325496083588|\n",
            "|[0.11666700243949...|0.12812499701976776|0.12799757959799174|\n",
            "|[0.1171879991889,...| 0.1177079975605011|0.12036222441903568|\n",
            "|[0.1171879991889,...| 0.1166670024394989|0.12111219673088167|\n",
            "|[0.11822900176048...|0.12395799905061722| 0.1244532579665723|\n",
            "|[0.12239599972963...| 0.1166670024394989|0.12065505812415411|\n",
            "+--------------------+-------------------+-------------------+\n",
            "only showing top 20 rows\n",
            "\n"
          ]
        }
      ]
    },
    {
      "cell_type": "code",
      "source": [
        "# Plot the linear regression of the actual vs predicted values\n",
        "plt.figure(figsize=(10, 6), facecolor='lightblue')\n",
        "plt.scatter(pred.predictions.select('label').toPandas(), pred.predictions.select('prediction').toPandas(), alpha=0.5, marker='o', s=20, c='green', label='Predicted')\n",
        "plt.scatter(pred.predictions.select('label').toPandas(), pred.predictions.select('label').toPandas(), alpha=0.5, marker='x', s=20, c='red', label='Actual')\n",
        "\n",
        "plt.xlabel('Actual Values', color = 'blue', fontsize = 12)\n",
        "plt.ylabel('Predicted Values', color = 'blue', fontsize = 12)\n",
        "plt.title('Actual vs. Predicted Values', fontsize = 15, color = 'blue')\n",
        "plt.xticks(rotation=45, color = 'blue')\n",
        "plt.yticks(rotation=45, color = 'blue')\n",
        "plt.grid(True, color = 'lightblue')\n",
        "plt.legend()\n",
        "plt.show()"
      ],
      "metadata": {
        "colab": {
          "base_uri": "https://localhost:8080/",
          "height": 585
        },
        "id": "VAmd82XjAl9e",
        "outputId": "811877e6-a755-4ec5-eb7e-ba36af5dacb3"
      },
      "execution_count": 16,
      "outputs": [
        {
          "output_type": "display_data",
          "data": {
            "text/plain": [
              "<Figure size 1000x600 with 1 Axes>"
            ],
            "image/png": "[encoded data removed]"
          },
          "metadata": {}
        }
      ]
    },
    {
      "cell_type": "code",
      "source": [
        "# Evaluate the model on the training data\n",
        "pred_train = ss.evaluate(train_data)"
      ],
      "metadata": {
        "id": "iLeu3SwNR5k5"
      },
      "execution_count": 17,
      "outputs": []
    },
    {
      "cell_type": "code",
      "source": [
        "# Printing MAE\n",
        "print('MAE for train set:', pred_train.meanAbsoluteError)\n",
        "print('MAE for test set:', pred.meanAbsoluteError)"
      ],
      "metadata": {
        "id": "8mz4pfgXAl6t",
        "colab": {
          "base_uri": "https://localhost:8080/"
        },
        "outputId": "a0ce28bd-04d8-41c4-8a12-9db841d4184f"
      },
      "execution_count": 18,
      "outputs": [
        {
          "output_type": "stream",
          "name": "stdout",
          "text": [
            "MAE for train set: 0.2178945581333791\n",
            "MAE for test set: 0.22753587893566926\n"
          ]
        }
      ]
    },
    {
      "cell_type": "code",
      "source": [
        "# Printing MSE\n",
        "print('MSE for train set:', pred_train.meanSquaredError)\n",
        "print('MSE for test set:', pred.meanSquaredError)"
      ],
      "metadata": {
        "id": "CxulEHOUAl4E",
        "colab": {
          "base_uri": "https://localhost:8080/"
        },
        "outputId": "e857f3a3-6e35-49e4-ac4e-adace78e3547"
      },
      "execution_count": 19,
      "outputs": [
        {
          "output_type": "stream",
          "name": "stdout",
          "text": [
            "MSE for train set: 0.24880952616829402\n",
            "MSE for test set: 0.25588904013596314\n"
          ]
        }
      ]
    },
    {
      "cell_type": "code",
      "source": [
        "# Printing RMSE\n",
        "print('RMSE for train set:', pred_train.rootMeanSquaredError)\n",
        "print('RMSE for test set:', pred.rootMeanSquaredError)"
      ],
      "metadata": {
        "id": "2o-ZMIU6Al1l",
        "colab": {
          "base_uri": "https://localhost:8080/"
        },
        "outputId": "b0c06544-d05f-40e4-bf7c-8ba25bf45874"
      },
      "execution_count": 20,
      "outputs": [
        {
          "output_type": "stream",
          "name": "stdout",
          "text": [
            "RMSE for train set: 0.4988081055559282\n",
            "RMSE for test set: 0.5058547618990683\n"
          ]
        }
      ]
    },
    {
      "cell_type": "code",
      "source": [
        "# Printing the R2 Score\n",
        "print('R2-Score for train set:', pred_train.r2)\n",
        "print('R2-Score for test set:', pred.r2)"
      ],
      "metadata": {
        "id": "5Vn3xrp_Aly8",
        "colab": {
          "base_uri": "https://localhost:8080/"
        },
        "outputId": "ccbd8d7a-a01d-4762-b92c-530dc6dc05b1"
      },
      "execution_count": 21,
      "outputs": [
        {
          "output_type": "stream",
          "name": "stdout",
          "text": [
            "R2-Score for train set: 0.9999280648378985\n",
            "R2-Score for test set: 0.9999285285545458\n"
          ]
        }
      ]
    }
  ]
}